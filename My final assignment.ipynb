{
 "cells": [
  {
   "cell_type": "markdown",
   "metadata": {},
   "source": [
    "<center>\n",
    "    <img src=\"https://s3-api.us-geo.objectstorage.softlayer.net/cf-courses-data/CognitiveClass/Logos/organization_logo/organization_logo.png\" width=\"300\" alt=\"cognitiveclass.ai logo\"  />\n",
    "</center>\n"
   ]
  },
  {
   "cell_type": "markdown",
   "metadata": {},
   "source": [
    "#### Add your code below following the instructions given in the course\n"
   ]
  },
  {
   "cell_type": "markdown",
   "metadata": {},
   "source": [
    "# Elfatih Farah "
   ]
  },
  {
   "cell_type": "markdown",
   "metadata": {},
   "source": [
    "**iam intersted in data science because i need to gain new skills in data collecting and analyzing**"
   ]
  },
  {
   "cell_type": "markdown",
   "metadata": {},
   "source": [
    "_my code is to sum the number 2 and 2 so we can get the final result about the sum_"
   ]
  },
  {
   "cell_type": "markdown",
   "metadata": {},
   "source": [
    "### my code is to sum the number 2 and 2 so we can get the final result about the sum"
   ]
  },
  {
   "cell_type": "code",
   "execution_count": 1,
   "metadata": {},
   "outputs": [
    {
     "data": {
      "text/plain": [
       "4"
      ]
     },
     "execution_count": 1,
     "metadata": {},
     "output_type": "execute_result"
    }
   ],
   "source": [
    "2+2"
   ]
  },
  {
   "cell_type": "markdown",
   "metadata": {},
   "source": [
    "***\n",
    "good learning\n",
    "***\n",
    "\n",
    "***\n",
    "better life \n",
    "***\n",
    "\n",
    "***\n",
    "ibm is awsome\n",
    "***\n",
    "\n",
    "1. this is numbered list\n",
    "2. this is numbered list\n",
    "3. this is numbered list \n",
    "\n",
    "`ihave learned good things`\n",
    "\n",
    "` iam happy about this things`\n",
    "\n",
    "`its great thing to do`"
   ]
  }
 ],
 "metadata": {
  "kernelspec": {
   "display_name": "Python",
   "language": "python",
   "name": "conda-env-python-py"
  },
  "language_info": {
   "codemirror_mode": {
    "name": "ipython",
    "version": 3
   },
   "file_extension": ".py",
   "mimetype": "text/x-python",
   "name": "python",
   "nbconvert_exporter": "python",
   "pygments_lexer": "ipython3",
   "version": "3.7.12"
  }
 },
 "nbformat": 4,
 "nbformat_minor": 4
}
