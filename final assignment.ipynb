{
 "cells": [
  {
   "cell_type": "markdown",
   "id": "63add27b-f30f-45cc-a55d-8ae61b51bd7d",
   "metadata": {},
   "source": [
    "# My Jupyter Notebook on IBM Watson Studio"
   ]
  },
  {
   "cell_type": "markdown",
   "id": "ee5fe65d-1709-4805-89df-14720fe1a1f0",
   "metadata": {},
   "source": [
    "**Elfatih Farah**"
   ]
  },
  {
   "cell_type": "markdown",
   "id": "b9b6f373-3417-47af-b196-dc8145306541",
   "metadata": {},
   "source": [
    "_iam intersted in data science because i need to gain new skills in data collecting and analyzing_"
   ]
  },
  {
   "cell_type": "markdown",
   "id": "2fa44b3c-19c0-4910-99fc-db90482a33bb",
   "metadata": {},
   "source": [
    "### my code is to sum the number 2 and 2 so we can get the final result about the sum "
   ]
  },
  {
   "cell_type": "code",
   "execution_count": 1,
   "id": "2014393e-c098-4ab6-917e-6c224a2c0d2c",
   "metadata": {},
   "outputs": [
    {
     "data": {
      "text/plain": [
       "4"
      ]
     },
     "execution_count": 1,
     "metadata": {},
     "output_type": "execute_result"
    }
   ],
   "source": [
    " 2+2"
   ]
  },
  {
   "cell_type": "markdown",
   "id": "02900137-99ec-4f09-94dd-c1c6c7bf7e68",
   "metadata": {},
   "source": [
    "> Someone once told me that time was a predator that stalked us all our lives\n",
    "\n",
    "1. Elfatih\n",
    "2. farah\n",
    "\n",
    "<li>Keep going</li>\n",
    "<li>Yes</li>\n",
    "\n",
    "<p><img src=\"https://cdn.pixabay.com/photo/2015/04/23/22/00/tree-736885_960_720.jpg\" alt=\"Alt Text\" title=\"nature\"></p>\n"
   ]
  }
 ],
 "metadata": {
  "kernelspec": {
   "display_name": "Python",
   "language": "python",
   "name": "conda-env-python-py"
  },
  "language_info": {
   "codemirror_mode": {
    "name": "ipython",
    "version": 3
   },
   "file_extension": ".py",
   "mimetype": "text/x-python",
   "name": "python",
   "nbconvert_exporter": "python",
   "pygments_lexer": "ipython3",
   "version": "3.7.12"
  }
 },
 "nbformat": 4,
 "nbformat_minor": 5
}
